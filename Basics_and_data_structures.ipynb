{
  "nbformat": 4,
  "nbformat_minor": 0,
  "metadata": {
    "colab": {
      "provenance": []
    },
    "kernelspec": {
      "name": "python3",
      "display_name": "Python 3"
    },
    "language_info": {
      "name": "python"
    }
  },
  "cells": [
    {
      "cell_type": "markdown",
      "source": [
        "Question 1 : What are semantic HTML elements? Why is using them important for web\n",
        "development?\n",
        "\n",
        "answer: Semantic HTML elements are tags that clearly describe their meaning and role in a webpage.\n",
        "\n",
        "examples: header, footer, article, section, nav, and aside\n",
        "\n",
        "importances:\n",
        "\n",
        "* They make the code more readble and maintanable.\n",
        "\n",
        "* They provide a clear document structure, improving user experience.\n",
        "\n",
        "* They enhance accessibility for screen readers and assistive technologies."
      ],
      "metadata": {
        "id": "c3J-2TTQAU1p"
      }
    },
    {
      "cell_type": "markdown",
      "source": [
        "Question 2: You're designing a blog page. Which semantic elements would you use to structure the page, and why?\n",
        "\n",
        "answer:\n",
        "\n",
        "* header - for creating blog title and logo .\n",
        "\n",
        "* nav - to provide menus or links to different blog sections.\n",
        "\n",
        "* main - for main blog content.\n",
        "\n",
        "* article - for each individual blog post.\n",
        "\n",
        "* section - to dived conent into related parts.\n",
        "\n",
        "* aside - additional info like related posts.\n",
        "\n",
        "* footer - for author info or contact detilas."
      ],
      "metadata": {
        "id": "PZBm7ghADNEq"
      }
    },
    {
      "cell_type": "markdown",
      "source": [
        "Question 3: How can you make an HTML form more accessible to users with\n",
        "disabilities?\n",
        "\n",
        "answer:\n",
        "\n",
        "* Use proper label tag elements linked to form controls with the for attribute.\n",
        "\n",
        "* Provide descriptive placeholder.\n",
        "\n",
        "* Add clear error messages and instructions.\n",
        "\n",
        "* Use proper color contrast for readbility."
      ],
      "metadata": {
        "id": "Xl2adwu0FJaG"
      }
    },
    {
      "cell_type": "markdown",
      "source": [
        "Question 4: Identify and correct the errors in the following CSS code:\n",
        "\n",
        "\n",
        "p {\n",
        "\n",
        "font-size: 16;\n",
        "\n",
        "color: #333\n",
        "\n",
        "margin-top 10px;\n",
        "\n",
        "}\n",
        "\n",
        "answer:\n",
        "\n",
        "* font-size value missing unit.\n",
        "\n",
        "* color: here semicoloumn ( ; ) is missing.\n",
        "\n",
        "* margin top with wrong seperation.\n",
        "\n",
        "correct code : p {\n",
        "\n",
        " font-size-16px;\n",
        "\n",
        " color: #333;\n",
        "\n",
        " margin-top : 10px;\n",
        "\n",
        "}\n",
        "\n",
        "\n"
      ],
      "metadata": {
        "id": "ZiivEQIVGo79"
      }
    },
    {
      "cell_type": "markdown",
      "source": [
        "Question 5: Write CSS rules to style all < h2 > elements inside a < section > with a blue color and center alignment.\n",
        "\n",
        "answer:\n",
        "\n",
        "section h2 {\n",
        "   \n",
        "  color: blue;\n",
        "\n",
        "  text-align: center;\n",
        "\n",
        "}"
      ],
      "metadata": {
        "id": "uf4K7aLwIaw0"
      }
    },
    {
      "cell_type": "markdown",
      "source": [
        "Question 6: Explain the CSS box model and its components.\n",
        "\n",
        "answer: The box model defines the structure and behaviour of this box .\n",
        "\n",
        "Comoponents of box model are:\n",
        "\n",
        "1.content - it contain the actual conetnt of the element.It sizes deteremined by properties like width and height.\n",
        "\n",
        "2.padding - This is the transparent space between the content and border of the element.\n",
        "\n",
        "3.border - This is line that surrounds the content and padding within it.It is like a wrapper.\n",
        "\n",
        "4.margin - This is the transparent space outside the border of an element."
      ],
      "metadata": {
        "id": "eHUG-o0DJ2R2"
      }
    },
    {
      "cell_type": "markdown",
      "source": [
        "Question 7: How do the relative, absolute, and fixed positioning properties differ in CSS?\n",
        "\n",
        "answer:\n",
        "\n",
        "* position: relative:\n",
        "\n",
        "   The element is positioned according to the noramal flow of the document,but its final position is then adjusted relative to its own intial position using top, right, bottom, and left properties.\n",
        "\n",
        "*  position: absolute:\n",
        "\n",
        "   The element is removed from the normal document flow and positioned relative to its closets positioned ancestor.If no such ancestor exists,its positioned relative to the intial containg block.\n",
        "\n",
        "* position: fixed:\n",
        "\n",
        "   This prorpety remove from the normal document flow and it is postioned relative to the viewport.Does not affects the layout of other elements."
      ],
      "metadata": {
        "id": "-cBnjHjfM20g"
      }
    },
    {
      "cell_type": "markdown",
      "source": [
        "Question 8: Write a CSS rule to set a background image for a < div> with the class .banner, ensuring the image covers the entire area without repeating.\n",
        "\n",
        "answer:"
      ],
      "metadata": {
        "id": "W-kRwwtbQOqq"
      }
    },
    {
      "cell_type": "code",
      "source": [
        ".banner {\n",
        "    background-image : url('path of image');\n",
        "    background-size: cover;\n",
        "    background-repeat;\n",
        "}"
      ],
      "metadata": {
        "id": "Ozu4piU3Qzl7"
      },
      "execution_count": null,
      "outputs": []
    }
  ]
}